{
  "nbformat": 4,
  "nbformat_minor": 0,
  "metadata": {
    "colab": {
      "provenance": []
    },
    "kernelspec": {
      "name": "python3",
      "display_name": "Python 3"
    },
    "language_info": {
      "name": "python"
    }
  },
  "cells": [
    {
      "cell_type": "markdown",
      "source": [
        "**Write a program to compare the performance of SGD, Adam, and RMSprop optimizers on a given\n",
        "dataset.**"
      ],
      "metadata": {
        "id": "wlzJ78FiC-VD"
      }
    },
    {
      "cell_type": "markdown",
      "source": [
        "Step 1: Import Libraries"
      ],
      "metadata": {
        "id": "c1p0Wn7lIaoN"
      }
    },
    {
      "cell_type": "code",
      "source": [
        "import numpy as np\n",
        "import pandas as pd\n",
        "import matplotlib.pyplot as plt\n"
      ],
      "metadata": {
        "id": "VxEaQyXvIcpN"
      },
      "execution_count": 11,
      "outputs": []
    },
    {
      "cell_type": "markdown",
      "source": [
        "Step 2: Generate Sample Data"
      ],
      "metadata": {
        "id": "8XAMLcBzIfOB"
      }
    },
    {
      "cell_type": "code",
      "source": [
        "# Generate sample data\n",
        "np.random.seed(0)\n",
        "X = np.random.rand(100, 1)\n",
        "y = 3 + 2 * X + np.random.randn(100, 1) / 1.5\n",
        "\n",
        "# Add a column of ones to X for the bias term\n",
        "X = np.hstack((np.ones((100, 1)), X))\n"
      ],
      "metadata": {
        "id": "C5fujzojIhug"
      },
      "execution_count": 12,
      "outputs": []
    },
    {
      "cell_type": "markdown",
      "source": [
        "Step 3: Implement Optimizers"
      ],
      "metadata": {
        "id": "EGxmIss6IkUL"
      }
    },
    {
      "cell_type": "markdown",
      "source": [
        "SGD Optimizer"
      ],
      "metadata": {
        "id": "_yW-Vs-TJJKY"
      }
    },
    {
      "cell_type": "code",
      "source": [
        "def sgd(X, y, initial_params, learning_rate=0.01, n_iter=1000):\n",
        "    params = np.array(initial_params, dtype=float)\n",
        "    for _ in range(n_iter):\n",
        "        for i in range(len(X)):\n",
        "            prediction = np.dot(X[i], params)\n",
        "            error = prediction - y[i]\n",
        "            gradient = error * X[i]\n",
        "            params -= learning_rate * gradient\n",
        "    return params\n"
      ],
      "metadata": {
        "id": "JpzByxWSIm7E"
      },
      "execution_count": 14,
      "outputs": []
    },
    {
      "cell_type": "markdown",
      "source": [
        "Adam Optimizer"
      ],
      "metadata": {
        "id": "3VpLIZkJIocg"
      }
    },
    {
      "cell_type": "code",
      "source": [
        "def adam(X, y, initial_params, learning_rate=0.01, beta1=0.9, beta2=0.999, epsilon=1e-8, n_iter=1000):\n",
        "    params = np.array(initial_params, dtype=float)\n",
        "    m = np.zeros_like(params)\n",
        "    v = np.zeros_like(params)\n",
        "    for _ in range(n_iter):\n",
        "        for i in range(len(X)):\n",
        "            prediction = np.dot(X[i], params)\n",
        "            error = prediction - y[i]\n",
        "            gradient = error * X[i]\n",
        "            m = beta1 * m + (1 - beta1) * gradient\n",
        "            v = beta2 * v + (1 - beta2) * gradient**2\n",
        "            m_hat = m / (1 - beta1)\n",
        "            v_hat = v / (1 - beta2)\n",
        "            params -= learning_rate * m_hat / (np.sqrt(v_hat) + epsilon)\n",
        "    return params\n"
      ],
      "metadata": {
        "id": "ZmWCzKVXIu4f"
      },
      "execution_count": 13,
      "outputs": []
    },
    {
      "cell_type": "markdown",
      "source": [
        "RMSprop Optimizer"
      ],
      "metadata": {
        "id": "LfOOCc08I4X_"
      }
    },
    {
      "cell_type": "code",
      "source": [
        "def rmsprop(X, y, initial_params, learning_rate=0.01, decay_rate=0.9, epsilon=1e-8, n_iter=1000):\n",
        "    params = np.array(initial_params, dtype=float)\n",
        "    squared_grad = np.zeros_like(params)\n",
        "    for _ in range(n_iter):\n",
        "        for i in range(len(X)):\n",
        "            prediction = np.dot(X[i], params)\n",
        "            error = prediction - y[i]\n",
        "            gradient = error * X[i]\n",
        "            squared_grad = decay_rate * squared_grad + (1 - decay_rate) * gradient**2\n",
        "            params -= learning_rate * gradient / (np.sqrt(squared_grad) + epsilon)\n",
        "    return params\n"
      ],
      "metadata": {
        "id": "MrN1fP59I5GO"
      },
      "execution_count": 15,
      "outputs": []
    },
    {
      "cell_type": "markdown",
      "source": [
        "Step 4: Compare Optimizers"
      ],
      "metadata": {
        "id": "71ank4GlI7EM"
      }
    },
    {
      "cell_type": "code",
      "source": [
        "def mse(X, y, params):\n",
        "    predictions = np.dot(X, params)\n",
        "    return np.mean((predictions - y)**2)\n",
        "\n",
        "# Initial parameters\n",
        "initial_params = [0, 0]\n",
        "\n",
        "# Run optimizers\n",
        "sgd_params = sgd(X, y, initial_params)\n",
        "adam_params = adam(X, y, initial_params)\n",
        "rmsprop_params = rmsprop(X, y, initial_params)\n",
        "\n",
        "# Calculate MSE for each optimizer\n",
        "sgd_mse = mse(X, y, sgd_params)\n",
        "adam_mse = mse(X, y, adam_params)\n",
        "rmsprop_mse = mse(X, y, rmsprop_params)\n",
        "\n",
        "print(f\"SGD MSE: {sgd_mse}\")\n",
        "print(f\"Adam MSE: {adam_mse}\")\n",
        "print(f\"RMSprop MSE: {rmsprop_mse}\")\n",
        "\n",
        "# Plot predictions\n",
        "plt.scatter(X[:, 1], y, label='Data')\n",
        "plt.plot(X[:, 1], np.dot(X, sgd_params), label='SGD')\n",
        "plt.plot(X[:, 1], np.dot(X, adam_params), label='Adam')\n",
        "plt.plot(X[:, 1], np.dot(X, rmsprop_params), label='RMSprop')\n",
        "plt.legend()\n",
        "plt.show()\n"
      ],
      "metadata": {
        "colab": {
          "base_uri": "https://localhost:8080/",
          "height": 482
        },
        "id": "Kkkh5COHI9yj",
        "outputId": "6306fa50-c533-41ff-e76f-16eb345d4122"
      },
      "execution_count": 16,
      "outputs": [
        {
          "output_type": "stream",
          "name": "stdout",
          "text": [
            "SGD MSE: 1.074599843181729\n",
            "Adam MSE: 1.0773597443130243\n",
            "RMSprop MSE: 1.0372047016394266\n"
          ]
        },
        {
          "output_type": "display_data",
          "data": {
            "text/plain": [
              "<Figure size 640x480 with 1 Axes>"
            ],
            "image/png": "[encoded data removed]"
          },
          "metadata": {}
        }
      ]
    }
  ]
}